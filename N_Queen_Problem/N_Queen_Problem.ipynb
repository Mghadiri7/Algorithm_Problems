{
 "cells": [
  {
   "cell_type": "markdown",
   "id": "db926383-9c54-4604-b1a0-a19424a9eb06",
   "metadata": {},
   "source": [
    "### Importing Dependencies"
   ]
  },
  {
   "cell_type": "code",
   "execution_count": 1,
   "id": "478c2470-2cfc-4111-ae53-c30fd9a635bc",
   "metadata": {},
   "outputs": [],
   "source": [
    "from random import randint as rnd\n",
    "from random import shuffle\n",
    "import matplotlib.pyplot as plt"
   ]
  },
  {
   "cell_type": "markdown",
   "id": "50e46fb3-64f2-46a6-a8c0-20af2daf6467",
   "metadata": {},
   "source": [
    "### Setting The Problem and Algorithm Parameters"
   ]
  },
  {
   "cell_type": "code",
   "execution_count": 2,
   "id": "54062d97-d3be-4f7b-b3a3-10362fd39a55",
   "metadata": {},
   "outputs": [],
   "source": [
    "N = 6\n",
    "PS = 200   #Population Size\n",
    "MR = 0.8    #Mutation Rate\n",
    "Epoch = 400"
   ]
  },
  {
   "cell_type": "markdown",
   "id": "1978543b-3cfc-49d1-9dbd-fbe58a11f5ae",
   "metadata": {},
   "source": [
    "### Initial Population Function"
   ]
  },
  {
   "cell_type": "code",
   "execution_count": 3,
   "id": "aa88ef17-2e34-47a0-af10-e832b3c0e7b8",
   "metadata": {},
   "outputs": [],
   "source": [
    "def init_population(n, ps):\n",
    "    population_list = []\n",
    "    for i in range(ps):\n",
    "        member = []\n",
    "        for j in range(n):\n",
    "            member.append(rnd(0, n-1))\n",
    "        population_list.append(member+[None])\n",
    "    return population_list"
   ]
  },
  {
   "cell_type": "markdown",
   "id": "da15a103-f02f-4b4b-93e4-3dc3dfabfacb",
   "metadata": {},
   "source": [
    "### Cross Over Function"
   ]
  },
  {
   "cell_type": "code",
   "execution_count": 4,
   "id": "5a23a013-465c-4569-9939-5b2faa6f049e",
   "metadata": {},
   "outputs": [],
   "source": [
    "def cross_over(population_list, n , ps):\n",
    "    for i in range(0, ps, 2):\n",
    "        child1 = population_list[i][:n//2] + population_list[i+1][n//2:n]+[None]\n",
    "        child2 = population_list[i+1][:n//2] + population_list[i][n//2:n]+[None]\n",
    "        population_list.append(child1)\n",
    "        population_list.append(child2)\n",
    "    return population_list"
   ]
  },
  {
   "cell_type": "markdown",
   "id": "ed63cf13-05bf-4914-b3e7-c9c1e0825632",
   "metadata": {},
   "source": [
    "### Mutation Rate"
   ]
  },
  {
   "cell_type": "code",
   "execution_count": 5,
   "id": "cf1e5671-2e3d-4a7e-be11-7062a04440ca",
   "metadata": {},
   "outputs": [],
   "source": [
    "def mutation(population_list, n, ps, mr):\n",
    "    choosen_ones = list(range(ps, ps*2))\n",
    "    shuffle(choosen_ones)\n",
    "    choosen_ones = choosen_ones[:int(ps*mr)]\n",
    "\n",
    "    for i in choosen_ones:\n",
    "        cell = rnd(0, n-1)\n",
    "        val = rnd(0, n-1)\n",
    "        population_list[i][cell]=val\n",
    "    return population_list"
   ]
  },
  {
   "cell_type": "markdown",
   "id": "470dbbf9-c4bc-41bb-b1f0-57e2ebd28b2c",
   "metadata": {},
   "source": [
    "### Fitness Function"
   ]
  },
  {
   "cell_type": "code",
   "execution_count": 6,
   "id": "6b3f3b43-d04c-4d8c-bf0d-32ce66838da1",
   "metadata": {},
   "outputs": [],
   "source": [
    "def fitness(population_list, n):\n",
    "    length = len(population_list)\n",
    "    for i in range(length):\n",
    "        conflict = 0\n",
    "        for j in range(n):\n",
    "            for k in range(j+1, n):\n",
    "                #column\n",
    "                if population_list[i][j]==population_list[i][k]:\n",
    "                    conflict+=1\n",
    "                #diagnial\n",
    "                if abs(j-k)==abs(population_list[i][j]-population_list[i][k]):\n",
    "                    conflict+=1                  \n",
    "        population_list[i][-1]=conflict\n",
    "        \n",
    "    return population_list"
   ]
  },
  {
   "cell_type": "markdown",
   "id": "075a3806-aa97-4001-82a7-449d5b6695b0",
   "metadata": {},
   "source": [
    "### Presentation Function"
   ]
  },
  {
   "cell_type": "code",
   "execution_count": 7,
   "id": "60ab0a81-808c-4a95-8039-d6dd8f1a6a2b",
   "metadata": {},
   "outputs": [],
   "source": [
    "def show(solution, n):\n",
    "    plt.figure(figsize=(5, 5))\n",
    "    for i in range(n+1):\n",
    "        plt.plot([0, n*2], [i*2, i*2])\n",
    "        plt.plot([i*2, i*2], [0, n*2])\n",
    "    for i in range(n):\n",
    "        plt.scatter([i*2+1], solution[i]*2+1)\n",
    "    plt.show()"
   ]
  },
  {
   "cell_type": "markdown",
   "id": "012ca36d-6798-43ed-aff7-5f9ce7212058",
   "metadata": {},
   "source": [
    "### Main"
   ]
  },
  {
   "cell_type": "code",
   "execution_count": 8,
   "id": "4f02b3ed-ca52-416d-8e0e-1bfda2859344",
   "metadata": {},
   "outputs": [
    {
     "name": "stdout",
     "output_type": "stream",
     "text": [
      "1 Best solution so far:  [1, 3, 5, 2, 4, 0, 1]\n",
      "2 Best solution so far:  [1, 3, 5, 2, 4, 0, 1]\n",
      "3 Best solution so far:  [1, 3, 5, 2, 4, 0, 1]\n",
      "4 Best solution so far:  [1, 3, 5, 2, 4, 0, 1]\n",
      "5 Best solution so far:  [1, 3, 5, 2, 4, 0, 1]\n",
      "6 Best solution so far:  [1, 3, 5, 2, 4, 0, 1]\n",
      "7 Best solution so far:  [1, 3, 5, 2, 4, 0, 1]\n",
      "8 Best solution so far:  [1, 3, 5, 2, 4, 0, 1]\n",
      "9 Solution Found:  [2, 5, 1, 4, 0, 3, 0]\n"
     ]
    },
    {
     "data": {
      "image/png": "[encoded data removed]",
      "text/plain": [
       "<Figure size 500x500 with 1 Axes>"
      ]
     },
     "metadata": {},
     "output_type": "display_data"
    }
   ],
   "source": [
    "current_population = init_population(N, PS)\n",
    "current_population = fitness(current_population, N)\n",
    "current_population = sorted(current_population, key=lambda x:x[-1])\n",
    "if current_population[0][-1]==0:\n",
    "    print(\"Solution is found in the initial population stage: \", current_population[0])\n",
    "    show(current_population[0], N)\n",
    "else:\n",
    "    for i in range(Epoch):\n",
    "        current_population = cross_over(current_population, N, PS)\n",
    "        current_population = mutation(current_population, N, PS, MR)\n",
    "        current_population = fitness(current_population, N)\n",
    "        current_population = sorted(current_population, key=lambda x:x[-1])\n",
    "        current_population = current_population[:PS]\n",
    "        if current_population[0][-1]==0:\n",
    "            print(i+1, \"Solution Found: \", current_population[0])\n",
    "            show(current_population[0], N)\n",
    "            break\n",
    "        else:\n",
    "            print(i+1, \"Best solution so far: \", current_population[0])\n",
    "    else:\n",
    "        print(\"Sorry, We could not find you a solution.\")"
   ]
  },
  {
   "cell_type": "code",
   "execution_count": null,
   "id": "902cc3f7-eaa4-4a2e-b5c7-552e1d0d6f6e",
   "metadata": {},
   "outputs": [],
   "source": []
  },
  {
   "cell_type": "code",
   "execution_count": null,
   "id": "1e2f8ce4-0852-42bb-a350-3e84119193d8",
   "metadata": {},
   "outputs": [],
   "source": []
  }
 ],
 "metadata": {
  "kernelspec": {
   "display_name": "Python 3 (ipykernel)",
   "language": "python",
   "name": "python3"
  },
  "language_info": {
   "codemirror_mode": {
    "name": "ipython",
    "version": 3
   },
   "file_extension": ".py",
   "mimetype": "text/x-python",
   "name": "python",
   "nbconvert_exporter": "python",
   "pygments_lexer": "ipython3",
   "version": "3.10.11"
  }
 },
 "nbformat": 4,
 "nbformat_minor": 5
}
